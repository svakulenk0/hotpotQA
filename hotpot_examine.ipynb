{
 "cells": [
  {
   "cell_type": "code",
   "execution_count": 57,
   "metadata": {},
   "outputs": [],
   "source": [
    "# load dataset\n",
    "import json\n",
    "\n",
    "path = './hotpot_train_v1.1.json'\n",
    "\n",
    "with open(path) as f: \n",
    "    data = json.load(f) "
   ]
  },
  {
   "cell_type": "code",
   "execution_count": 71,
   "metadata": {},
   "outputs": [
    {
     "name": "stdout",
     "output_type": "stream",
     "text": [
      "Allison Beth \"Allie\" Goertz (born March 2, 1991) is an American musician.  Goertz is known for her satirical songs based on various pop culture topics.  Her videos are posted on YouTube under the name of Cossbysweater.  Subjects of her songs have included the film \"The Room\", the character Milhouse from the television show \"The Simpsons\", and the game Dungeons & Dragons.  Her style has been compared to that of Bo Burnham.  In December 2015, Goertz released a concept album based on the Adult Swim series \"Rick and Morty\", \"Sad Dance Songs\", with the album's cover emulating the animation and logo of the series.  The album was made possible through Kickstarter.  She is co-host of Everything's Coming Up Podcast, a Simpsons-focused podcast along with Julia Prescott. \n",
      "\n",
      "Allison Beth \"Allie\" Goertz (born March 2, 1991) is an American musician.  Goertz is known for her satirical songs based on various pop culture topics.  Her videos are posted on YouTube under the name of Cossbysweater.  Subjects of her songs have included the film \"The Room\", the character Milhouse from the television show \"The Simpsons\", and the game Dungeons & Dragons.  Her style has been compared to that of Bo Burnham.  In December 2015, Goertz released a concept album based on the Adult Swim series \"Rick and Morty\", \"Sad Dance Songs\", with the album's cover emulating the animation and logo of the series.  The album was made possible through Kickstarter.  She is co-host of Everything's Coming Up Podcast, a Simpsons-focused podcast along with Julia Prescott.\n",
      "19200\n"
     ]
    }
   ],
   "source": [
    "# calculate number of duplicates\n",
    "duplicates = 0\n",
    "for sample in data:\n",
    "    supporting = [sample['supporting_facts'][0][0], sample['supporting_facts'][1][0]]\n",
    "    passages = {}\n",
    "    for passage in sample['context']:\n",
    "        passages[passage[0]] = ' '.join(passage[1])\n",
    "\n",
    "    supporting = [passages[supporting[0]], passages[supporting[1]]]\n",
    "\n",
    "    if supporting[0] == supporting[1]:\n",
    "        duplicates += 1\n",
    "        if duplicates == 1:\n",
    "            print(supporting[0], '\\n')\n",
    "            print(supporting[1])\n",
    "        \n",
    "print(duplicates)"
   ]
  },
  {
   "cell_type": "code",
   "execution_count": 70,
   "metadata": {},
   "outputs": [
    {
     "name": "stdout",
     "output_type": "stream",
     "text": [
      "Gunmen from Laredo starred which narrator of \"Frontier\"?\n",
      "Gunmen from Laredo is a 1959 American western film produced and directed by Wallace MacDonald, which stars Robert Knapp, Maureen Hingert, and Walter Coy. \n",
      "\n",
      "Walter Darwin Coy (January 31, 1909 – December 11, 1974) was an American stage, radio, film, and, principally, television actor, originally from Great Falls, Montana.  He was best known for narrating the NBC western anthology series, \"Frontier\", which aired early Sunday evenings in the 1955–1956 season.\n",
      "Walter Darwin Coy\n",
      "bridge\n"
     ]
    }
   ],
   "source": [
    "# examine\n",
    "sample = data[11]\n",
    "question = sample['question']\n",
    "a = sample['answer']\n",
    "supporting = [sample['supporting_facts'][0][0], sample['supporting_facts'][1][0]]\n",
    "\n",
    "passages = {}\n",
    "for passage in sample['context']:\n",
    "    passages[passage[0]] = ' '.join(passage[1])\n",
    "    \n",
    "supporting = [passages[supporting[0]], passages[supporting[1]]]\n",
    "\n",
    "print(question)\n",
    "print(supporting[0], '\\n')\n",
    "print(supporting[1])\n",
    "print(a)\n",
    "print(sample['type'])\n",
    "\n",
    "sample = [question] + supporting + [a]\n",
    "# print(sample)"
   ]
  },
  {
   "cell_type": "code",
   "execution_count": 37,
   "metadata": {},
   "outputs": [
    {
     "name": "stdout",
     "output_type": "stream",
     "text": [
      "[['where', 'did', 'the', 'form', 'of', 'music', 'played', 'by', 'die', 'rhone', '##r', 'sa', '##uw', '##ant', '##z', '##t', 'originate', '?'], ['die', 'rhone', '##r', 'sa', '##uw', '##ant', '##z', '##t', 'are', 'a', 'ski', '##ffle', '-', 'blues', '##band', 'from', 'e', '##iche', '##nz', '##ell', '-', 'lu', '##tter', 'in', 'hesse', '##n', ',', 'germany', '.', 'the', 'line', '-', 'up', 'consists', 'of', 'martin', 'cab', '##a', ',', 'christoph', 'gunther', 'and', 'christoph', 'lei', '##pol', '##d', 'playing', 'ski', '##ffle', '-', 'blues', 'with', 'lyrics', 'based', 'on', 'r', '##hon', 'mountains', 'dialect', 'and', 'other', 'hess', '##ian', 'dialects', 'varieties', '.', 'the', 'expression', '\"', 'sa', '##uw', '##ant', '##z', '##t', '\"', 'means', 'pork', 'belly', 'and', 'refers', 'also', 'to', 'un', '##ti', '##dy', 'or', 'un', '##ru', '##ly', 'children', 'and', 'youth', '.'], ['ski', '##ffle', 'is', 'a', 'music', 'genre', 'with', 'jazz', ',', 'blues', ',', 'folk', 'and', 'american', 'folk', 'influences', ',', 'usually', 'using', 'a', 'combination', 'of', 'manufactured', 'and', 'homemade', 'or', 'improvised', 'instruments', '.', 'originating', 'as', 'a', 'term', 'in', 'the', 'united', 'states', 'in', 'the', 'first', 'half', 'of', 'the', '20th', 'century', ',', 'it', 'became', 'popular', 'again', 'in', 'the', 'uk', 'in', 'the', '1950s', ',', 'where', 'it', 'was', 'associated', 'with', 'artists', 'such', 'as', 'lo', '##nni', '##e', 'done', '##gan', ',', 'the', 'viper', '##s', 'ski', '##ffle', 'group', ',', 'ken', 'col', '##yer', 'and', 'cha', '##s', 'mc', '##dev', '##itt', '.', 'ski', '##ffle', 'played', 'a', 'major', 'part', 'in', 'beginning', 'the', 'careers', 'of', 'later', 'eminent', 'jazz', ',', 'pop', ',', 'blues', ',', 'folk', 'and', 'rock', 'musicians', 'and', 'has', 'been', 'seen', 'as', 'a', 'critical', 'stepping', 'stone', 'to', 'the', 'second', 'british', 'folk', 'revival', ',', 'blues', 'boom', 'and', 'british', 'invasion', 'of', 'the', 'us', 'popular', 'music', 'scene', '.'], ['united', 'states']]\n"
     ]
    }
   ],
   "source": [
    "# preprocess\n",
    "from transformers import BertTokenizer\n",
    "tokenizer = BertTokenizer.from_pretrained('bert-base-uncased')\n",
    "\n",
    "tokenised_sample = []\n",
    "for c in sample:\n",
    "    words = tokenizer.tokenize(c)\n",
    "    tokenised_sample.append(words)\n",
    "print(tokenised_sample)\n",
    "q, p1, p2, a = tokenised_sample"
   ]
  },
  {
   "cell_type": "code",
   "execution_count": 38,
   "metadata": {},
   "outputs": [
    {
     "name": "stdout",
     "output_type": "stream",
     "text": [
      "Where did the form of music played by Die Rhöner Säuwäntzt originate?\n",
      "Die Rhöner Säuwäntzt are a Skiffle-Bluesband from Eichenzell-Lütter in Hessen, Germany.  The line-up consists of Martin Caba, Christoph Günther and Christoph Leipold playing Skiffle-Blues with lyrics based on Rhön Mountains dialect and other Hessian dialects varieties.  The expression \"Säuwäntzt\" means pork belly and refers also to untidy or unruly children and youth.\n",
      "Skiffle is a music genre with jazz, blues, folk and American folk influences, usually using a combination of manufactured and homemade or improvised instruments.  Originating as a term in the United States in the first half of the 20th century, it became popular again in the UK in the 1950s, where it was associated with artists such as Lonnie Donegan, The Vipers Skiffle Group, Ken Colyer and Chas McDevitt.  Skiffle played a major part in beginning the careers of later eminent jazz, pop, blues, folk and rock musicians and has been seen as a critical stepping stone to the second British folk revival, blues boom and British Invasion of the US popular music scene.\n",
      "die rhone ##r sa ##uw ##ant ##z ##t - - - - - - - - - - - - - - - - - - - - - the - - - - of - - - - - - - - - - - - - - - - - - - - - - - - - - - - - - - the - - sa ##uw ##ant ##z ##t - - - - - - - - - - - - - - - - - - - \n",
      "\n",
      "- - - - music - - - - - - - - - - - - - - - - of - - - - - - - - - - - - the - - - the - - of the - - - - - - - - the - - the - - where - - - - - - - - - - - - - the - - - - - - - - - - - - - - - - - - played - - - - - the - of - - - - - - - - - - - - - - - - - - - - - - the - - - - - - - - - - of the - - music - - \n",
      "\n",
      "ski ##ffle - a - - with - , blues , - and - - - , - - a - of - and - or - - . - - a - in the - - in the - - of the - - , - - - - in the - in the - , - - - - with - - - - - - - - , the - - ski ##ffle - , - - - and - - - - - . ski ##ffle - a - - in - the - of - - - , - , blues , - and - - and - - - - a - - - to the - - - - , blues - and - - of the - - - - . \n",
      "\n",
      "ski ##ffle - a music - with - , blues , - and - - - , - - a - of - and - or - - . - - a - in the - - in the - - of the - - , - - - - in the - in the - , where - - - with - - - - - - - - , the - - ski ##ffle - , - - - and - - - - - . ski ##ffle played a - - in - the - of - - - , - , blues , - and - - and - - - - a - - - to the - - - - , blues - and - - of the - - music - .\n",
      "10\n",
      "5\n",
      "13\n",
      "16\n"
     ]
    }
   ],
   "source": [
    "# compare sequences: q - 1 q - 2 1 - 2\n",
    "def compare_seqs(s1, s2):\n",
    "    r = []\n",
    "    for token in s1:\n",
    "        if token in s2:\n",
    "            r.append(token)\n",
    "        else:\n",
    "            r.append('-')\n",
    "    return ' '.join(r)\n",
    "\n",
    "\n",
    "def calculate_overlap(s1, s2):\n",
    "    r = set(s1) & set(s2)\n",
    "#     for token in s1:\n",
    "#         if token in s2:\n",
    "#             r.append(token)\n",
    "    return len(r)\n",
    "\n",
    "print(question)\n",
    "print(supporting[0])\n",
    "print(supporting[1])\n",
    "\n",
    "print(compare_seqs(p1, q), '\\n')  # 1st passage retrieval\n",
    "print(compare_seqs(p2, q), '\\n')  # 2nd passage retrieval\n",
    "print(compare_seqs(p2, p1), '\\n')  # bridge\n",
    "print(compare_seqs(p2, q + p1))    # model\n",
    "\n",
    "print(calculate_overlap(p1, q))  # 1st passage retrieval\n",
    "print(calculate_overlap(p2, q))  # 2nd passage retrieval\n",
    "print(calculate_overlap(p2, p1))  # bridge\n",
    "print(calculate_overlap(p2, q + p1))    # model"
   ]
  },
  {
   "cell_type": "code",
   "execution_count": 49,
   "metadata": {},
   "outputs": [
    {
     "name": "stdout",
     "output_type": "stream",
     "text": [
      "- - - - - - - - - a ski ##ffle - blues - - - - - - - - - in - - , - . the - - - - of - - - , - - and - - - - - ski ##ffle - blues with - - - - - - - and - - - - - . the - - - - - - - - - - - and - - to - - - or - - - - and - .\n",
      "- - - - - - - - are a - - - - - from - - - - - - - in - ##n , - . the - - - - of - - ##a , - - and - - - - - - - - - with - - on - - - - and other - - - - . the - \" - - - - - \" - - - and - also to - - - - - - - - and - .\n",
      "ski ##ffle - a - - with - , blues , - and - - - , - - a - of - and - or - - . - - a - in the - - in the - - of the - - , - - - - in the - in the - , - - - - with - - - - - - - - , the - - ski ##ffle - , - - - and - - - - - . ski ##ffle - a - - in - the - of - - - , - , blues , - and - - and - - - - a - - - to the - - - - , blues - and - - of the - - - - .\n",
      "- - ##n - - - a - of - - - - - - - with - and - - on a \" - - - \" , a - of - - - . a - - ##n - - to - - - - - - - - - - a - - - the - of a - - - - - the - - - - in - to - - , - - - to - - - , - , other - to - , the - of a - - - - - - ##a - - - - - - - in - - - - - - to - - . - - of - - , the - - - - - . - - ##n - - - - - , the - - - - - - - and in - - - . - the - - a - - , - - - from the - - - the - of the - - and also from the - of the - - of the - , - - - , - - - in - - - - , - - - the - of - - to - - - - . the - - of the - - ##n - - - - , - the - - - in - - - ##n - the - - - - - - . - a - - of the - and - of a - - - - - ##n - are - to - - - - - , to - - - - - - - - - .\n",
      "5\n",
      "18\n",
      "21\n"
     ]
    }
   ],
   "source": [
    "# check negative samples\n",
    "for passage in passages.values():\n",
    "    if passage not in supporting:\n",
    "        words = tokenizer.tokenize(passage)\n",
    "#         print(passage)  # negative sample\n",
    "#         print(set(q) & set(words))\n",
    "#         print(set(p1) & set(words))\n",
    "        \n",
    "        # compare positive and negative sequences\n",
    "        \n",
    "        # positive\n",
    "#         print(compare_seqs(p2, q), '\\n')  # 2nd passage retrieval\n",
    "#         print(compare_seqs(p2, p1), '\\n')  # bridge\n",
    "#         print(compare_seqs(p2, q + p1))    # model\n",
    "        \n",
    "        \n",
    "#         print(compare_seqs(words, q), '\\n')  # 2nd passage retrieval\n",
    "#         print(compare_seqs(words, p1), '\\n')  # bridge\n",
    "#         print(compare_seqs(words, q + p1))    # model\n",
    "        \n",
    "        print(compare_seqs(p1, p2))    # model\n",
    "        print(compare_seqs(p1, words))    # model\n",
    "        \n",
    "        print(compare_seqs(p2, p1))    # model\n",
    "        print(compare_seqs(words, p1))    # model\n",
    "        \n",
    "#         print(calculate_overlap(p1, p2))    # model\n",
    "#         print(calculate_overlap(p1, words))    # model\n",
    "\n",
    "        \n",
    "        print(calculate_overlap(words, q))  # 2nd passage retrieval\n",
    "        print(calculate_overlap(words, p1))  # bridge\n",
    "        print(calculate_overlap(words, q + p1))    # model\n",
    "        \n",
    "#         print(calculate_overlap(p1, q+words))  # 2nd passage retrieval\n",
    "\n",
    "        break"
   ]
  },
  {
   "cell_type": "code",
   "execution_count": 45,
   "metadata": {},
   "outputs": [
    {
     "name": "stdout",
     "output_type": "stream",
     "text": [
      "Where did the form of music played by Die Rhöner Säuwäntzt originate?\n",
      "die rhone ##r sa ##uw ##ant ##z ##t - a ski ##ffle - blues - - - - - - - - - in - - , - . the - - - - of - - - , - - and - - - - - ski ##ffle - blues with - - - - - - - and - - - - - . the - - sa ##uw ##ant ##z ##t - - - - and - - to - - - or - - - - and - . \n",
      "\n",
      "21\n",
      "Die Rhöner Säuwäntzt are a Skiffle-Bluesband from Eichenzell-Lütter in Hessen, Germany.  The line-up consists of Martin Caba, Christoph Günther and Christoph Leipold playing Skiffle-Blues with lyrics based on Rhön Mountains dialect and other Hessian dialects varieties.  The expression \"Säuwäntzt\" means pork belly and refers also to untidy or unruly children and youth.\n",
      "Skiffle is a music genre with jazz, blues, folk and American folk influences, usually using a combination of manufactured and homemade or improvised instruments.  Originating as a term in the United States in the first half of the 20th century, it became popular again in the UK in the 1950s, where it was associated with artists such as Lonnie Donegan, The Vipers Skiffle Group, Ken Colyer and Chas McDevitt.  Skiffle played a major part in beginning the careers of later eminent jazz, pop, blues, folk and rock musicians and has been seen as a critical stepping stone to the second British folk revival, blues boom and British Invasion of the US popular music scene.\n"
     ]
    }
   ],
   "source": [
    "# roll back\n",
    "\n",
    "print(question)\n",
    "\n",
    "# reconstruct p1 q+p2\n",
    "print(compare_seqs(p1, q+p2), '\\n')  # 1st passage retrieval\n",
    "# print(compare_seqs(p1, p2), '\\n')  # bridge\n",
    "print(calculate_overlap(p1, q+p2))  # 2nd passage retrieval\n",
    "\n",
    "\n",
    "\n",
    "print(supporting[0])\n",
    "print(supporting[1])\n"
   ]
  },
  {
   "cell_type": "code",
   "execution_count": 46,
   "metadata": {},
   "outputs": [
    {
     "name": "stdout",
     "output_type": "stream",
     "text": [
      "ski ##ffle - a music - with - , blues , - and - - - , - - a - of - and - or - - . - - a - in the - - in the - - of the - - , - - - - in the - in the - , where - - - with - - - - - - - - , the - - ski ##ffle - , - - - and - - - - - . ski ##ffle played a - - in - the - of - - - , - , blues , - and - - and - - - - a - - - to the - - - - , blues - and - - of the - - music - .\n",
      "die rhone ##r sa ##uw ##ant ##z ##t - a ski ##ffle - blues - - - - - - - - - in - - , - . the - - - - of - - - , - - and - - - - - ski ##ffle - blues with - - - - - - - and - - - - - . the - - sa ##uw ##ant ##z ##t - - - - and - - to - - - or - - - - and - .\n"
     ]
    }
   ],
   "source": [
    "# compare combinations\n",
    "print(compare_seqs(p2, q + p1))    # model\n",
    "print(compare_seqs(p1, q + p2))    # model\n",
    "\n",
    "\n"
   ]
  },
  {
   "cell_type": "code",
   "execution_count": null,
   "metadata": {},
   "outputs": [],
   "source": []
  }
 ],
 "metadata": {
  "kernelspec": {
   "display_name": "transformers",
   "language": "python",
   "name": "transformers"
  },
  "language_info": {
   "codemirror_mode": {
    "name": "ipython",
    "version": 3
   },
   "file_extension": ".py",
   "mimetype": "text/x-python",
   "name": "python",
   "nbconvert_exporter": "python",
   "pygments_lexer": "ipython3",
   "version": "3.6.10"
  }
 },
 "nbformat": 4,
 "nbformat_minor": 2
}
